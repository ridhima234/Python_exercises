{
 "cells": [
  {
   "cell_type": "code",
   "execution_count": 2,
   "metadata": {},
   "outputs": [
    {
     "name": "stdout",
     "output_type": "stream",
     "text": [
      "Welcome to the cows and bulls game\n"
     ]
    }
   ],
   "source": [
    "print(\"Welcome to the cows and bulls game\")"
   ]
  },
  {
   "cell_type": "code",
   "execution_count": 3,
   "metadata": {},
   "outputs": [],
   "source": [
    "import random"
   ]
  },
  {
   "cell_type": "code",
   "execution_count": 4,
   "metadata": {},
   "outputs": [
    {
     "name": "stdout",
     "output_type": "stream",
     "text": [
      "['3', '3', '7', '2']\n"
     ]
    }
   ],
   "source": [
    "a=str(random.randint(1000,9999))\n",
    "r=[j for j in a]\n",
    "print(r)"
   ]
  },
  {
   "cell_type": "code",
   "execution_count": 5,
   "metadata": {},
   "outputs": [],
   "source": [
    "def input_user():\n",
    "        b=str(input(\"Enter the four digit number\"))\n",
    "        x=[]\n",
    "        for i in b:\n",
    "            x.append(i)\n",
    "        print(x)\n",
    "        return;"
   ]
  },
  {
   "cell_type": "code",
   "execution_count": null,
   "metadata": {},
   "outputs": [],
   "source": [
    "def match_index():\n",
    "    cow=0\n",
    "    bull=0\n",
    "    while cow!=4:\n",
    "        cow=0\n",
    "        bull=0\n",
    "    for m in range(0,4):     \n",
    "        if x[m] in r:\n",
    "            if x[m]==r[m]:\n",
    "                cow = cow + 1\n",
    "                x[m]=\"11\" \n",
    "                r[m]=\"12\"\n",
    "    for m in range(0,4):\n",
    "            if x[m] in r:\n",
    "                bull+=1\n",
    "                r.remove(r[m])\n",
    "\n",
    "    print(str(cow)+\" cows \"+str(bull)+\" bulls\")\n",
    "    return;\n",
    "    \n",
    "\n",
    "input_user()\n",
    "match_index()"
   ]
  },
  {
   "cell_type": "code",
   "execution_count": null,
   "metadata": {},
   "outputs": [],
   "source": [
    "x"
   ]
  },
  {
   "cell_type": "code",
   "execution_count": null,
   "metadata": {},
   "outputs": [],
   "source": [
    "input()"
   ]
  },
  {
   "cell_type": "code",
   "execution_count": null,
   "metadata": {},
   "outputs": [],
   "source": []
  }
 ],
 "metadata": {
  "kernelspec": {
   "display_name": "Python 2",
   "language": "python",
   "name": "python2"
  },
  "language_info": {
   "codemirror_mode": {
    "name": "ipython",
    "version": 2
   },
   "file_extension": ".py",
   "mimetype": "text/x-python",
   "name": "python",
   "nbconvert_exporter": "python",
   "pygments_lexer": "ipython2",
   "version": "2.7.15"
  }
 },
 "nbformat": 4,
 "nbformat_minor": 2
}
