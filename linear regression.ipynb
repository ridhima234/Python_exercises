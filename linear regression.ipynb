{
 "cells": [
  {
   "cell_type": "code",
   "execution_count": 2,
   "metadata": {},
   "outputs": [],
   "source": [
    "import numpy as np"
   ]
  },
  {
   "cell_type": "code",
   "execution_count": 3,
   "metadata": {},
   "outputs": [
    {
     "data": {
      "text/plain": [
       "array([-10.        ,  -9.89949749,  -9.79899497,  -9.69849246,\n",
       "        -9.59798995,  -9.49748744,  -9.39698492,  -9.29648241,\n",
       "        -9.1959799 ,  -9.09547739,  -8.99497487,  -8.89447236,\n",
       "        -8.79396985,  -8.69346734,  -8.59296482,  -8.49246231,\n",
       "        -8.3919598 ,  -8.29145729,  -8.19095477,  -8.09045226,\n",
       "        -7.98994975,  -7.88944724,  -7.78894472,  -7.68844221,\n",
       "        -7.5879397 ,  -7.48743719,  -7.38693467,  -7.28643216,\n",
       "        -7.18592965,  -7.08542714,  -6.98492462,  -6.88442211,\n",
       "        -6.7839196 ,  -6.68341709,  -6.58291457,  -6.48241206,\n",
       "        -6.38190955,  -6.28140704,  -6.18090452,  -6.08040201,\n",
       "        -5.9798995 ,  -5.87939698,  -5.77889447,  -5.67839196,\n",
       "        -5.57788945,  -5.47738693,  -5.37688442,  -5.27638191,\n",
       "        -5.1758794 ,  -5.07537688,  -4.97487437,  -4.87437186,\n",
       "        -4.77386935,  -4.67336683,  -4.57286432,  -4.47236181,\n",
       "        -4.3718593 ,  -4.27135678,  -4.17085427,  -4.07035176,\n",
       "        -3.96984925,  -3.86934673,  -3.76884422,  -3.66834171,\n",
       "        -3.5678392 ,  -3.46733668,  -3.36683417,  -3.26633166,\n",
       "        -3.16582915,  -3.06532663,  -2.96482412,  -2.86432161,\n",
       "        -2.7638191 ,  -2.66331658,  -2.56281407,  -2.46231156,\n",
       "        -2.36180905,  -2.26130653,  -2.16080402,  -2.06030151,\n",
       "        -1.95979899,  -1.85929648,  -1.75879397,  -1.65829146,\n",
       "        -1.55778894,  -1.45728643,  -1.35678392,  -1.25628141,\n",
       "        -1.15577889,  -1.05527638,  -0.95477387,  -0.85427136,\n",
       "        -0.75376884,  -0.65326633,  -0.55276382,  -0.45226131,\n",
       "        -0.35175879,  -0.25125628,  -0.15075377,  -0.05025126,\n",
       "         0.05025126,   0.15075377,   0.25125628,   0.35175879,\n",
       "         0.45226131,   0.55276382,   0.65326633,   0.75376884,\n",
       "         0.85427136,   0.95477387,   1.05527638,   1.15577889,\n",
       "         1.25628141,   1.35678392,   1.45728643,   1.55778894,\n",
       "         1.65829146,   1.75879397,   1.85929648,   1.95979899,\n",
       "         2.06030151,   2.16080402,   2.26130653,   2.36180905,\n",
       "         2.46231156,   2.56281407,   2.66331658,   2.7638191 ,\n",
       "         2.86432161,   2.96482412,   3.06532663,   3.16582915,\n",
       "         3.26633166,   3.36683417,   3.46733668,   3.5678392 ,\n",
       "         3.66834171,   3.76884422,   3.86934673,   3.96984925,\n",
       "         4.07035176,   4.17085427,   4.27135678,   4.3718593 ,\n",
       "         4.47236181,   4.57286432,   4.67336683,   4.77386935,\n",
       "         4.87437186,   4.97487437,   5.07537688,   5.1758794 ,\n",
       "         5.27638191,   5.37688442,   5.47738693,   5.57788945,\n",
       "         5.67839196,   5.77889447,   5.87939698,   5.9798995 ,\n",
       "         6.08040201,   6.18090452,   6.28140704,   6.38190955,\n",
       "         6.48241206,   6.58291457,   6.68341709,   6.7839196 ,\n",
       "         6.88442211,   6.98492462,   7.08542714,   7.18592965,\n",
       "         7.28643216,   7.38693467,   7.48743719,   7.5879397 ,\n",
       "         7.68844221,   7.78894472,   7.88944724,   7.98994975,\n",
       "         8.09045226,   8.19095477,   8.29145729,   8.3919598 ,\n",
       "         8.49246231,   8.59296482,   8.69346734,   8.79396985,\n",
       "         8.89447236,   8.99497487,   9.09547739,   9.1959799 ,\n",
       "         9.29648241,   9.39698492,   9.49748744,   9.59798995,\n",
       "         9.69849246,   9.79899497,   9.89949749,  10.        ])"
      ]
     },
     "execution_count": 3,
     "metadata": {},
     "output_type": "execute_result"
    }
   ],
   "source": [
    "x=np.linspace(-10,10,200)\n",
    "x"
   ]
  },
  {
   "cell_type": "code",
   "execution_count": 4,
   "metadata": {},
   "outputs": [
    {
     "data": {
      "text/plain": [
       "array([ 0.14054457,  1.0604032 ,  0.22018194, -0.14695786,  0.78181342,\n",
       "       -2.16137158,  0.21371619, -0.15213626, -1.47128044, -2.67590379,\n",
       "       -0.3355476 , -0.88330373,  0.54162024,  0.0528516 ,  0.40399237,\n",
       "       -1.57221351,  0.09076043, -0.11415234,  0.45785461, -0.37918039,\n",
       "       -0.15364067, -0.19153754,  0.35095231, -0.5248953 ,  0.36015851,\n",
       "        0.8832534 ,  0.07229698, -0.44183444,  0.34483532,  0.54687068,\n",
       "       -0.75807059, -1.7542829 ,  1.36772445,  1.15345203,  0.66331112,\n",
       "        1.46464649,  0.9095198 ,  0.57805561, -2.17046406,  0.38566236,\n",
       "        0.10707279, -0.91840597, -1.07329176,  0.57861042, -0.51077332,\n",
       "        0.19380925, -0.58014826,  1.00973395,  2.16191139, -0.41395214,\n",
       "        0.38303595, -0.98750046, -0.69494642,  1.12047776, -1.02302329,\n",
       "        2.32324281,  0.49935989,  1.59376089,  0.38515343,  0.26330278,\n",
       "       -0.51177456,  0.43876703, -0.11594971, -0.22807417,  0.81016687,\n",
       "       -0.39669877, -0.41520243,  0.77986156, -1.5989664 , -0.29719475,\n",
       "        0.41170967,  1.53179829,  0.27226067, -1.8563559 , -0.44178839,\n",
       "        1.07394796,  0.1292573 ,  0.44209248, -1.64668464, -0.35594178,\n",
       "        0.99524577,  2.22077931,  0.61282133,  0.10281283, -1.11662148,\n",
       "       -0.52271747, -0.62654309, -0.94258563, -0.31156289,  0.28035446,\n",
       "        0.38149653, -0.20143345,  0.33068212,  1.4701904 , -0.11742192,\n",
       "       -0.79116525, -0.96090625,  0.04444542, -0.70445655, -1.8471402 ,\n",
       "        0.24200294, -0.89061491, -0.43870891,  1.04330623, -0.82613252,\n",
       "        0.02199942, -0.09582835,  1.15418525, -0.29829894, -0.2171733 ,\n",
       "       -1.64636572, -0.08517704, -0.16998654, -1.26846798,  0.73744499,\n",
       "        0.52510429, -0.05561652,  0.29222617,  0.27350881,  0.16280995,\n",
       "       -1.02986362, -1.0253493 , -0.15902743, -1.72619307, -1.4080689 ,\n",
       "        1.71503951,  0.02837398,  0.97003658,  0.34785461, -0.74867872,\n",
       "       -0.01209926,  0.31467306, -0.16089054, -0.17359626,  0.75704744,\n",
       "       -0.57641321, -1.24340591, -0.25864555, -1.65913065, -1.37670153,\n",
       "        0.25087162,  1.32996093,  0.83684194,  0.6900134 ,  1.5550407 ,\n",
       "        0.49780178,  0.99372547, -0.49854318, -0.09299451, -1.83839205,\n",
       "       -0.22166325,  0.91998449,  0.76627699, -0.12761378, -1.42676545,\n",
       "       -0.95948926, -0.14879375,  0.01134733, -0.42150948, -0.16474049,\n",
       "       -0.73464806,  1.98117893, -0.94666117, -1.05814051, -0.09910563,\n",
       "        0.04881335,  0.07650591, -0.41284718,  1.55123443, -1.26005374,\n",
       "        0.13308511, -0.50355364,  0.44211369,  0.6419447 ,  0.07508223,\n",
       "        1.29847622, -0.29080447,  0.67476233, -0.13870379, -1.31585916,\n",
       "       -0.31605976, -0.42219332,  0.94502874,  1.64471726,  0.30768592,\n",
       "        0.37367999,  0.32757578,  1.35711133, -0.78308628,  0.67449026,\n",
       "        0.9357732 ,  0.97955852, -0.0398978 , -0.31762672,  0.58146186,\n",
       "        1.14437246,  0.72246556,  0.12171143,  0.03001893, -0.48467609])"
      ]
     },
     "execution_count": 4,
     "metadata": {},
     "output_type": "execute_result"
    }
   ],
   "source": [
    "e=np.random.randn(200)\n",
    "e"
   ]
  },
  {
   "cell_type": "code",
   "execution_count": 5,
   "metadata": {},
   "outputs": [
    {
     "data": {
      "text/plain": [
       "2"
      ]
     },
     "execution_count": 5,
     "metadata": {},
     "output_type": "execute_result"
    }
   ],
   "source": [
    "m=2\n",
    "m"
   ]
  },
  {
   "cell_type": "code",
   "execution_count": 6,
   "metadata": {},
   "outputs": [
    {
     "data": {
      "text/plain": [
       "1"
      ]
     },
     "execution_count": 6,
     "metadata": {},
     "output_type": "execute_result"
    }
   ],
   "source": [
    "c=1\n",
    "c"
   ]
  },
  {
   "cell_type": "code",
   "execution_count": 7,
   "metadata": {},
   "outputs": [
    {
     "data": {
      "text/plain": [
       "array([-1.88594554e+01, -1.77385918e+01, -1.83778080e+01, -1.85439428e+01,\n",
       "       -1.74141665e+01, -2.01563465e+01, -1.75802537e+01, -1.77451011e+01,\n",
       "       -1.88632402e+01, -1.98668586e+01, -1.73254973e+01, -1.76722485e+01,\n",
       "       -1.60463195e+01, -1.63340831e+01, -1.57819373e+01, -1.75571381e+01,\n",
       "       -1.56931592e+01, -1.56970669e+01, -1.49240549e+01, -1.55600849e+01,\n",
       "       -1.51335402e+01, -1.49704320e+01, -1.42269371e+01, -1.49017797e+01,\n",
       "       -1.38157209e+01, -1.30916210e+01, -1.37015724e+01, -1.40146988e+01,\n",
       "       -1.30270240e+01, -1.26239836e+01, -1.37279198e+01, -1.45231271e+01,\n",
       "       -1.12001147e+01, -1.12133821e+01, -1.15025180e+01, -1.05001776e+01,\n",
       "       -1.08542993e+01, -1.09847585e+01, -1.35322731e+01, -1.07751417e+01,\n",
       "       -1.08527262e+01, -1.16771999e+01, -1.16310807e+01, -9.77817349e+00,\n",
       "       -1.06665522e+01, -9.76096462e+00, -1.03339171e+01, -8.54302987e+00,\n",
       "       -7.18984741e+00, -9.56470591e+00, -8.56671279e+00, -9.73624418e+00,\n",
       "       -9.24268511e+00, -7.22625590e+00, -9.16875193e+00, -5.62148081e+00,\n",
       "       -7.24435870e+00, -5.94895268e+00, -6.95655511e+00, -6.87740074e+00,\n",
       "       -7.45147306e+00, -6.29992644e+00, -6.65363816e+00, -6.56475758e+00,\n",
       "       -5.32551152e+00, -6.33137214e+00, -6.14887077e+00, -4.75280175e+00,\n",
       "       -6.93062469e+00, -5.42784801e+00, -4.51793857e+00, -3.19684493e+00,\n",
       "       -4.25537752e+00, -6.18298907e+00, -4.56741653e+00, -2.85067516e+00,\n",
       "       -3.59436079e+00, -3.08052058e+00, -4.96829268e+00, -3.47654479e+00,\n",
       "       -1.92435222e+00, -4.97813656e-01, -1.90476661e+00, -2.21377008e+00,\n",
       "       -3.23219937e+00, -2.43729034e+00, -2.34011093e+00, -2.45514844e+00,\n",
       "       -1.62312068e+00, -8.30198305e-01, -5.28051209e-01, -9.09976163e-01,\n",
       "       -1.76855564e-01,  1.16365774e+00, -2.22949563e-01, -6.95687864e-01,\n",
       "       -6.64423843e-01,  5.41932861e-01, -5.96408461e-03, -9.47642716e-01,\n",
       "        1.34250545e+00,  4.10892629e-01,  1.06380365e+00,  2.74682382e+00,\n",
       "        1.07839010e+00,  2.12752706e+00,  2.21070431e+00,  3.66172294e+00,\n",
       "        2.41024378e+00,  2.69237444e+00,  1.46418704e+00,  3.22638075e+00,\n",
       "        3.34257628e+00,  2.44509986e+00,  4.65201786e+00,  4.64068218e+00,\n",
       "        4.26096639e+00,  4.80981411e+00,  4.99210178e+00,  5.08240794e+00,\n",
       "        4.09073939e+00,  4.29625874e+00,  5.36358564e+00,  3.99742502e+00,\n",
       "        4.51655421e+00,  7.84066765e+00,  6.35500714e+00,  7.49767477e+00,\n",
       "        7.07649782e+00,  6.18096952e+00,  7.11855401e+00,  7.64633135e+00,\n",
       "        7.37177278e+00,  7.56007209e+00,  8.69172080e+00,  7.55926518e+00,\n",
       "        7.09327750e+00,  8.27904290e+00,  7.07956282e+00,  7.56299697e+00,\n",
       "        9.39157513e+00,  1.06716695e+01,  1.03795555e+01,  1.04337320e+01,\n",
       "        1.14997643e+01,  1.06435304e+01,  1.13404591e+01,  1.00491955e+01,\n",
       "        1.06557492e+01,  9.11135670e+00,  1.09290905e+01,  1.22717433e+01,\n",
       "        1.23190408e+01,  1.16261551e+01,  1.05280084e+01,  1.11962896e+01,\n",
       "        1.22079902e+01,  1.25691363e+01,  1.23372845e+01,  1.27950585e+01,\n",
       "        1.24261560e+01,  1.53429880e+01,  1.26161529e+01,  1.27056786e+01,\n",
       "        1.38657185e+01,  1.42146425e+01,  1.44433401e+01,  1.41549920e+01,\n",
       "        1.63200787e+01,  1.37097955e+01,  1.53039394e+01,  1.48683057e+01,\n",
       "        1.60149780e+01,  1.64158140e+01,  1.60499566e+01,  1.74743556e+01,\n",
       "        1.60860799e+01,  1.72526518e+01,  1.66401907e+01,  1.56640403e+01,\n",
       "        1.68648448e+01,  1.69597162e+01,  1.85279433e+01,  1.94286369e+01,\n",
       "        1.82926105e+01,  1.85596096e+01,  1.87145105e+01,  1.99450510e+01,\n",
       "        1.80058584e+01,  1.96644400e+01,  2.01267280e+01,  2.03715183e+01,\n",
       "        1.95530670e+01,  1.94763431e+01,  2.05764367e+01,  2.13403524e+01,\n",
       "        2.11194505e+01,  2.07197014e+01,  2.08290139e+01,  2.05153239e+01])"
      ]
     },
     "execution_count": 7,
     "metadata": {},
     "output_type": "execute_result"
    }
   ],
   "source": [
    "y=m * x+c+e\n",
    "y"
   ]
  },
  {
   "cell_type": "code",
   "execution_count": 8,
   "metadata": {},
   "outputs": [],
   "source": [
    "import matplotlib.pyplot as plt\n",
    "%matplotlib inline "
   ]
  },
  {
   "cell_type": "code",
   "execution_count": 9,
   "metadata": {},
   "outputs": [
    {
     "data": {
      "text/plain": [
       "<matplotlib.collections.PathCollection at 0x7e7aa58>"
      ]
     },
     "execution_count": 9,
     "metadata": {},
     "output_type": "execute_result"
    },
    {
     "data": {
      "image/png": "[encoded data removed]",
      "text/plain": [
       "<Figure size 432x288 with 1 Axes>"
      ]
     },
     "metadata": {
      "needs_background": "light"
     },
     "output_type": "display_data"
    }
   ],
   "source": [
    "plt.scatter(x,y)"
   ]
  },
  {
   "cell_type": "code",
   "execution_count": 10,
   "metadata": {},
   "outputs": [
    {
     "data": {
      "text/plain": [
       "array([0.29586945])"
      ]
     },
     "execution_count": 10,
     "metadata": {},
     "output_type": "execute_result"
    }
   ],
   "source": [
    "mh=np.random.randn(1)\n",
    "mh"
   ]
  },
  {
   "cell_type": "code",
   "execution_count": 11,
   "metadata": {},
   "outputs": [
    {
     "data": {
      "text/plain": [
       "array([-0.90759867])"
      ]
     },
     "execution_count": 11,
     "metadata": {},
     "output_type": "execute_result"
    }
   ],
   "source": [
    "ch=np.random.randn(1)\n",
    "ch"
   ]
  },
  {
   "cell_type": "code",
   "execution_count": 12,
   "metadata": {},
   "outputs": [
    {
     "data": {
      "text/plain": [
       "array([-3.72574856e+00, -2.77615431e+00, -3.58663994e+00, -3.92404412e+00,\n",
       "       -2.96553721e+00, -5.87898660e+00, -3.47416320e+00, -3.81028002e+00,\n",
       "       -5.09968859e+00, -6.27457631e+00, -3.90448450e+00, -4.42250501e+00,\n",
       "       -2.96784541e+00, -3.42687843e+00, -3.04600204e+00, -4.99247229e+00,\n",
       "       -3.29976273e+00, -3.47493988e+00, -2.87319731e+00, -3.68049669e+00,\n",
       "       -3.42522134e+00, -3.43338259e+00, -2.86115712e+00, -3.70726911e+00,\n",
       "       -2.79247967e+00, -2.23964916e+00, -3.02086996e+00, -3.50526576e+00,\n",
       "       -2.68886037e+00, -2.45708939e+00, -3.73229503e+00, -4.69877172e+00,\n",
       "       -1.54702875e+00, -1.73156554e+00, -2.19197084e+00, -1.36089984e+00,\n",
       "       -1.88629091e+00, -2.18801947e+00, -4.90680352e+00, -2.32094148e+00,\n",
       "       -2.56979543e+00, -3.56553856e+00, -3.69068873e+00, -2.00905093e+00,\n",
       "       -3.06869905e+00, -2.33438086e+00, -3.07860274e+00, -1.45898491e+00,\n",
       "       -2.77071848e-01, -2.82319975e+00, -1.99647604e+00, -3.33727683e+00,\n",
       "       -3.01498717e+00, -1.16982736e+00, -3.28359279e+00,  9.24089277e-02,\n",
       "       -1.70173836e+00, -5.77601745e-01, -1.75647357e+00, -1.84858861e+00,\n",
       "       -2.59393033e+00, -1.61365311e+00, -2.13863423e+00, -2.22102306e+00,\n",
       "       -1.15304640e+00, -2.33017642e+00, -2.31894446e+00, -1.09414484e+00,\n",
       "       -3.44323718e+00, -2.11172991e+00, -1.37308986e+00, -2.23265624e-01,\n",
       "       -1.45306762e+00, -3.55194857e+00, -2.10764544e+00, -5.62173464e-01,\n",
       "       -1.47712850e+00, -1.13455769e+00, -3.19359919e+00, -1.87312071e+00,\n",
       "       -4.92197535e-01,  7.63071622e-01, -8.15150739e-01, -1.29542361e+00,\n",
       "       -2.48512230e+00, -1.86148267e+00, -1.93557266e+00, -2.22187958e+00,\n",
       "       -1.56112122e+00, -9.39468246e-01, -8.08590553e-01, -1.36178491e+00,\n",
       "       -7.99933713e-01,  3.69310188e-01, -1.18856652e+00, -1.83257422e+00,\n",
       "       -1.97257960e+00, -9.37492300e-01, -1.65665865e+00, -2.76960668e+00,\n",
       "       -6.50727914e-01, -1.75361014e+00, -1.27196852e+00,  2.39782241e-01,\n",
       "       -1.59992088e+00, -7.22053320e-01, -8.10145468e-01,  4.69603754e-01,\n",
       "       -9.53144810e-01, -8.42283548e-01, -2.24174035e+00, -6.50816045e-01,\n",
       "       -7.05889920e-01, -1.77463574e+00,  2.61012855e-01,  7.84077766e-02,\n",
       "       -4.72577412e-01, -9.49991017e-02, -8.39808351e-02, -1.64944073e-01,\n",
       "       -1.32788202e+00, -1.29363208e+00, -3.97574580e-01, -1.93500460e+00,\n",
       "       -1.58714481e+00,  1.56569922e+00, -9.12306863e-02,  8.80167536e-01,\n",
       "        2.87721186e-01, -7.79076516e-01, -1.27614299e-02,  3.43746505e-01,\n",
       "       -1.02081468e-01, -8.50515613e-02,  8.75327752e-01, -4.28397271e-01,\n",
       "       -1.06565435e+00, -5.11583598e-02, -1.42190784e+00, -1.10974310e+00,\n",
       "        5.47565671e-01,  1.65639060e+00,  1.19300724e+00,  1.07591432e+00,\n",
       "        1.97067725e+00,  9.43173949e-01,  1.46883326e+00,  6.30023053e-03,\n",
       "        4.41584524e-01, -1.27407739e+00,  3.72387029e-01,  1.54377039e+00,\n",
       "        1.41979852e+00,  5.55643366e-01, -7.13772675e-01, -2.16760866e-01,\n",
       "        6.23670272e-01,  8.13546966e-01,  4.10425785e-01,  6.96930391e-01,\n",
       "        1.56758450e-01,  2.90232106e+00,  4.21658144e-03, -7.75271307e-02,\n",
       "        9.11243370e-01,  1.08889797e+00,  1.14632615e+00,  6.86708683e-01,\n",
       "        2.68052592e+00, -1.01026623e-01,  1.32184784e+00,  7.14944715e-01,\n",
       "        1.69034767e+00,  1.91991430e+00,  1.38278746e+00,  2.63591707e+00,\n",
       "        1.07637200e+00,  2.07167442e+00,  1.28794392e+00,  1.40524184e-01,\n",
       "        1.17005920e+00,  1.09366127e+00,  2.49061895e+00,  3.22004309e+00,\n",
       "        1.91274738e+00,  2.00847707e+00,  1.99210848e+00,  3.05137966e+00,\n",
       "        9.40917666e-01,  2.42822982e+00,  2.71924839e+00,  2.79276933e+00,\n",
       "        1.80304864e+00,  1.55505534e+00,  2.48387954e+00,  3.07652576e+00,\n",
       "        2.68435449e+00,  2.11333598e+00,  2.05137910e+00,  1.56641970e+00])"
      ]
     },
     "execution_count": 12,
     "metadata": {},
     "output_type": "execute_result"
    }
   ],
   "source": [
    "yh=mh*x+ch+e\n",
    "yh"
   ]
  },
  {
   "cell_type": "code",
   "execution_count": 16,
   "metadata": {},
   "outputs": [
    {
     "name": "stdout",
     "output_type": "stream",
     "text": [
      "Value of m_hat[2.01752159]\n",
      "value of c_hat[-0.24028144]\n",
      "Value of y_hat s[-20.41549734 -20.21273135 -20.00996536 -19.80719937 -19.60443338\n",
      " -19.40166739 -19.1989014  -18.99613541 -18.79336942 -18.59060344\n",
      " -18.38783745 -18.18507146 -17.98230547 -17.77953948 -17.57677349\n",
      " -17.3740075  -17.17124151 -16.96847552 -16.76570954 -16.56294355\n",
      " -16.36017756 -16.15741157 -15.95464558 -15.75187959 -15.5491136\n",
      " -15.34634761 -15.14358162 -14.94081563 -14.73804965 -14.53528366\n",
      " -14.33251767 -14.12975168 -13.92698569 -13.7242197  -13.52145371\n",
      " -13.31868772 -13.11592173 -12.91315575 -12.71038976 -12.50762377\n",
      " -12.30485778 -12.10209179 -11.8993258  -11.69655981 -11.49379382\n",
      " -11.29102783 -11.08826184 -10.88549586 -10.68272987 -10.47996388\n",
      " -10.27719789 -10.0744319   -9.87166591  -9.66889992  -9.46613393\n",
      "  -9.26336794  -9.06060195  -8.85783597  -8.65506998  -8.45230399\n",
      "  -8.249538    -8.04677201  -7.84400602  -7.64124003  -7.43847404\n",
      "  -7.23570805  -7.03294207  -6.83017608  -6.62741009  -6.4246441\n",
      "  -6.22187811  -6.01911212  -5.81634613  -5.61358014  -5.41081415\n",
      "  -5.20804816  -5.00528218  -4.80251619  -4.5997502   -4.39698421\n",
      "  -4.19421822  -3.99145223  -3.78868624  -3.58592025  -3.38315426\n",
      "  -3.18038828  -2.97762229  -2.7748563   -2.57209031  -2.36932432\n",
      "  -2.16655833  -1.96379234  -1.76102635  -1.55826036  -1.35549437\n",
      "  -1.15272839  -0.9499624   -0.74719641  -0.54443042  -0.34166443\n",
      "  -0.13889844   0.06386755   0.26663354   0.46939953   0.67216551\n",
      "   0.8749315    1.07769749   1.28046348   1.48322947   1.68599546\n",
      "   1.88876145   2.09152744   2.29429343   2.49705942   2.6998254\n",
      "   2.90259139   3.10535738   3.30812337   3.51088936   3.71365535\n",
      "   3.91642134   4.11918733   4.32195332   4.5247193    4.72748529\n",
      "   4.93025128   5.13301727   5.33578326   5.53854925   5.74131524\n",
      "   5.94408123   6.14684722   6.34961321   6.55237919   6.75514518\n",
      "   6.95791117   7.16067716   7.36344315   7.56620914   7.76897513\n",
      "   7.97174112   8.17450711   8.3772731    8.58003908   8.78280507\n",
      "   8.98557106   9.18833705   9.39110304   9.59386903   9.79663502\n",
      "   9.99940101  10.202167    10.40493298  10.60769897  10.81046496\n",
      "  11.01323095  11.21599694  11.41876293  11.62152892  11.82429491\n",
      "  12.0270609   12.22982689  12.43259287  12.63535886  12.83812485\n",
      "  13.04089084  13.24365683  13.44642282  13.64918881  13.8519548\n",
      "  14.05472079  14.25748677  14.46025276  14.66301875  14.86578474\n",
      "  15.06855073  15.27131672  15.47408271  15.6768487   15.87961469\n",
      "  16.08238068  16.28514666  16.48791265  16.69067864  16.89344463\n",
      "  17.09621062  17.29897661  17.5017426   17.70450859  17.90727458\n",
      "  18.11004056  18.31280655  18.51557254  18.71833853  18.92110452\n",
      "  19.12387051  19.3266365   19.52940249  19.73216848  19.93493447]\n"
     ]
    }
   ],
   "source": [
    "for j in range(0,900):\n",
    "    for i in range(0,200):\n",
    "        der_err=((y[i]-mh*x[i]-c)*(x[i]))\n",
    "        der_err=-der_err/200\n",
    "        mh=mh-0.08* der_err\n",
    "        err1=y[i]-mh*x[i]-c\n",
    "        delta_error=err1/200 * (-1)\n",
    "        ch=ch-0.01 * delta_error\n",
    "        yh=mh*x+ch\n",
    "print (\"Value of m_hat\")+str(mh)\n",
    "print (\"value of c_hat\")+str(ch)\n",
    "print (\"Value of y_hat s\")+str(yh)"
   ]
  },
  {
   "cell_type": "code",
   "execution_count": 14,
   "metadata": {},
   "outputs": [
    {
     "data": {
      "text/plain": [
       "[<matplotlib.lines.Line2D at 0x80114a8>]"
      ]
     },
     "execution_count": 14,
     "metadata": {},
     "output_type": "execute_result"
    },
    {
     "data": {
      "image/png": "[encoded data removed]",
      "text/plain": [
       "<Figure size 432x288 with 1 Axes>"
      ]
     },
     "metadata": {
      "needs_background": "light"
     },
     "output_type": "display_data"
    }
   ],
   "source": [
    "plt.scatter(x,y)\n",
    "plt.plot(x,yh)"
   ]
  },
  {
   "cell_type": "code",
   "execution_count": null,
   "metadata": {},
   "outputs": [],
   "source": []
  },
  {
   "cell_type": "code",
   "execution_count": null,
   "metadata": {},
   "outputs": [],
   "source": []
  }
 ],
 "metadata": {
  "kernelspec": {
   "display_name": "Python 2",
   "language": "python",
   "name": "python2"
  },
  "language_info": {
   "codemirror_mode": {
    "name": "ipython",
    "version": 2
   },
   "file_extension": ".py",
   "mimetype": "text/x-python",
   "name": "python",
   "nbconvert_exporter": "python",
   "pygments_lexer": "ipython2",
   "version": "2.7.15"
  }
 },
 "nbformat": 4,
 "nbformat_minor": 2
}
