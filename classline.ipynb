{
 "cells": [
  {
   "cell_type": "code",
   "execution_count": 8,
   "metadata": {},
   "outputs": [
    {
     "name": "stdout",
     "output_type": "stream",
     "text": [
      "2.2360679775\n",
      "4\n"
     ]
    }
   ],
   "source": [
    "class line():\n",
    "    \n",
    "    c=5\n",
    "    def __init__(self,x1,x2,y1,y2):\n",
    "        self.x1=x1\n",
    "        self.x2=x2\n",
    "        self.y1=y1\n",
    "        self.y2=y2\n",
    "            \n",
    "    def distance(self):\n",
    "        dis=((self.y2-self.y1)**2 -(self.x2-self.x1)**2)**0.5\n",
    "        return dis\n",
    "    def slope(self):\n",
    "        slp=self.y2-self.y1/self.x2-self.x1\n",
    "        #y=self.slp* x1+ self.c\n",
    "        return slp\n",
    "    \n",
    "l=line(2,4,4,7)\n",
    "print l.distance()\n",
    "print l.slope()"
   ]
  },
  {
   "cell_type": "code",
   "execution_count": null,
   "metadata": {},
   "outputs": [],
   "source": []
  }
 ],
 "metadata": {
  "kernelspec": {
   "display_name": "Python 2",
   "language": "python",
   "name": "python2"
  },
  "language_info": {
   "codemirror_mode": {
    "name": "ipython",
    "version": 2
   },
   "file_extension": ".py",
   "mimetype": "text/x-python",
   "name": "python",
   "nbconvert_exporter": "python",
   "pygments_lexer": "ipython2",
   "version": "2.7.15"
  }
 },
 "nbformat": 4,
 "nbformat_minor": 2
}
