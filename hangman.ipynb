{
 "cells": [
  {
   "cell_type": "code",
   "execution_count": null,
   "metadata": {},
   "outputs": [],
   "source": [
    "with open(\"sowpods.txt\",'r') as f:\n",
    "    data=f.read()\n",
    "    print(data)"
   ]
  },
  {
   "cell_type": "code",
   "execution_count": 2,
   "metadata": {},
   "outputs": [
    {
     "name": "stdout",
     "output_type": "stream",
     "text": [
      "Welcome to the Hangman Game\n"
     ]
    }
   ],
   "source": [
    "print(\"Welcome to the Hangman Game\")"
   ]
  },
  {
   "cell_type": "code",
   "execution_count": null,
   "metadata": {},
   "outputs": [
    {
     "name": "stdout",
     "output_type": "stream",
     "text": [
      "['h', 'e', 'l', 'l', 'o']\n",
      "Guess the Letter:- r\n",
      "Wrong letter guessed\n",
      "Guess the Letter:- t\n",
      "Wrong letter guessed\n",
      "Guess the Letter:- y\n",
      "Wrong letter guessed\n",
      "Guess the Letter:- o\n",
      "4  index of guess letter\n",
      "['-', '-', '-', '-', 'o']\n",
      "Guess the Letter:- l\n",
      "2  index of guess letter\n",
      "['-', '-', 'l', '-', 'o']\n",
      "Guess the Letter:- h\n",
      "0  index of guess letter\n",
      "['h', '-', 'l', '-', 'o']\n"
     ]
    }
   ],
   "source": [
    "class hman:\n",
    "    \n",
    "    \n",
    "    def __init__(self,word):\n",
    "        self.word=word\n",
    "        self.word_len = 0\n",
    "\n",
    "    def text_input(self):\n",
    "        #word=raw_input(\"Enter the word to be guessed  :-\"+ self.word)\n",
    "        self.word=list(self.word)\n",
    "        self.word_len= \"-\" * len(self.word)\n",
    "        self.word_len=list(self.word_len)\n",
    "        #print(word_len)\n",
    "        return self.word,self.word_len\n",
    "\n",
    "    def guess_work(self):\n",
    "        w=self.word\n",
    "        print w\n",
    "        wl=self.word_len\n",
    "        #x=text_input()\n",
    "        count=-1\n",
    "        while count!=len(w):\n",
    "            guess_letter=raw_input(\"Guess the Letter:- \")\n",
    "            if guess_letter in w:\n",
    "                    index1=w.index(guess_letter)\n",
    "                    print index1,\" index of guess letter\"\n",
    "                   # print(wl,\"wl\")\n",
    "#                     print(wl[0],\"wl 0\")\n",
    "#                     print(guess_letter,\"GS\")\n",
    "                    wl[index1]=guess_letter\n",
    "                    print wl\n",
    "                    count=count+1\n",
    "            elif guess_letter in w:\n",
    "                    wl=''\n",
    "                    print(\"letter already guessed\")\n",
    "            else:\n",
    "                    print(\"Wrong letter guessed\")\n",
    "        return\n",
    "\n",
    "    #t1,t2 = text_input()\n",
    "    #guess_work(t1,t2)\n",
    "p1=hman(\"helo\")\n",
    "p1.text_input()\n",
    "p1.guess_work()"
   ]
  },
  {
   "cell_type": "code",
   "execution_count": null,
   "metadata": {},
   "outputs": [],
   "source": []
  },
  {
   "cell_type": "code",
   "execution_count": null,
   "metadata": {},
   "outputs": [],
   "source": []
  },
  {
   "cell_type": "code",
   "execution_count": null,
   "metadata": {},
   "outputs": [],
   "source": []
  },
  {
   "cell_type": "code",
   "execution_count": null,
   "metadata": {},
   "outputs": [],
   "source": []
  },
  {
   "cell_type": "code",
   "execution_count": null,
   "metadata": {},
   "outputs": [],
   "source": []
  },
  {
   "cell_type": "code",
   "execution_count": null,
   "metadata": {},
   "outputs": [],
   "source": []
  },
  {
   "cell_type": "code",
   "execution_count": null,
   "metadata": {},
   "outputs": [
    {
     "name": "stdout",
     "output_type": "stream",
     "text": [
      "Guess the Letter:- N\n",
      "0  index of guess letter\n",
      "('wl', ['-', '-', '-', '-', '-', '-'])\n",
      "('wl index', '-')\n",
      "N\n",
      "['N', '-', '-', '-', '-', '-']\n",
      "Guess the Letter:- a\n",
      "Wrong letter guessed\n",
      "Guess the Letter:- A\n",
      "1  index of guess letter\n",
      "('wl', ['N', '-', '-', '-', '-', '-'])\n",
      "('wl index', '-')\n",
      "A\n",
      "['N', 'A', '-', '-', '-', '-']\n"
     ]
    }
   ],
   "source": [
    "class test:\n",
    "    def __init__(self,word):\n",
    "        self.word = word\n",
    "        self.word_len = 0\n",
    "        \n",
    "    def text_input(self):\n",
    "        #word=raw_input(\"Enter the word to be guessed  :-\")\n",
    "        self.word=list(self.word)\n",
    "        self.word_len= \"-\" * len(self.word)\n",
    "        self.word_len=list(self.word_len)\n",
    "        #print(word_len)\n",
    "        return self.word,self.word_len\n",
    "\n",
    "    def guess_work(self):\n",
    "        w=self.word\n",
    "        wl=self.word_len\n",
    "        count=-1\n",
    "        while count!=len(w):\n",
    "            guess_letter=raw_input(\"Guess the Letter:- \")\n",
    "            if guess_letter in w:\n",
    "                index1=w.index(guess_letter)\n",
    "                print index1,\" index of guess letter\"\n",
    "                print(\"wl\",wl)\n",
    "                print(\"wl index\", wl[index1])\n",
    "                print(guess_letter)\n",
    "                wl[index1]=guess_letter\n",
    "                print wl\n",
    "                count=count+1\n",
    "            elif guess_letter in w:\n",
    "                wl=''\n",
    "                print(\"letter already guerssed\")\n",
    "            else:\n",
    "                print(\"Wrong letter guessed\")\n",
    "        return\n",
    "\n",
    "\n",
    "abc = test(\"NARUTO\")\n",
    "abc.text_input()\n",
    "abc.guess_work()"
   ]
  },
  {
   "cell_type": "code",
   "execution_count": null,
   "metadata": {},
   "outputs": [],
   "source": []
  }
 ],
 "metadata": {
  "kernelspec": {
   "display_name": "Python 2",
   "language": "python",
   "name": "python2"
  },
  "language_info": {
   "codemirror_mode": {
    "name": "ipython",
    "version": 2
   },
   "file_extension": ".py",
   "mimetype": "text/x-python",
   "name": "python",
   "nbconvert_exporter": "python",
   "pygments_lexer": "ipython2",
   "version": "2.7.15"
  }
 },
 "nbformat": 4,
 "nbformat_minor": 2
}
