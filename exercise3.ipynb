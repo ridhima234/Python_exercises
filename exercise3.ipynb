{
 "cells": [
  {
   "cell_type": "code",
   "execution_count": 9,
   "metadata": {},
   "outputs": [],
   "source": [
    "a=[1,3,2,4,5,7,8,78,678,34]"
   ]
  },
  {
   "cell_type": "code",
   "execution_count": 18,
   "metadata": {},
   "outputs": [
    {
     "name": "stdout",
     "output_type": "stream",
     "text": [
      "1\n",
      "3\n",
      "2\n",
      "4\n",
      "bye\n",
      "bye\n",
      "bye\n",
      "bye\n",
      "bye\n",
      "bye\n",
      "count is4\n"
     ]
    }
   ],
   "source": [
    "count=0\n",
    "int(count)\n",
    "for i in range(len(a)):\n",
    "    if a[i]<5:\n",
    "        print (a[i])\n",
    "        count= count+1\n",
    "    else:\n",
    "        print (\"bye\")\n",
    "print('count is'+str(count))"
   ]
  },
  {
   "cell_type": "code",
   "execution_count": null,
   "metadata": {},
   "outputs": [],
   "source": []
  }
 ],
 "metadata": {
  "kernelspec": {
   "display_name": "Python 2",
   "language": "python",
   "name": "python2"
  },
  "language_info": {
   "codemirror_mode": {
    "name": "ipython",
    "version": 2
   },
   "file_extension": ".py",
   "mimetype": "text/x-python",
   "name": "python",
   "nbconvert_exporter": "python",
   "pygments_lexer": "ipython2",
   "version": "2.7.15"
  }
 },
 "nbformat": 4,
 "nbformat_minor": 2
}
