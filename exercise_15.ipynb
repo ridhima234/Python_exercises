{
 "cells": [
  {
   "cell_type": "code",
   "execution_count": 20,
   "metadata": {},
   "outputs": [
    {
     "name": "stdout",
     "output_type": "stream",
     "text": [
      "enter the stringmy name is\n",
      "['my', 'name', 'is']\n",
      "['is', 'name', 'my']\n",
      "is name my\n",
      "['is', 'name', 'my']\n"
     ]
    }
   ],
   "source": [
    "def rev(x):\n",
    "    result=x.split()\n",
    "    print(result)\n",
    "    result.reverse()\n",
    "    print(result)\n",
    "    print(\" \".join(result))\n",
    "    return result   \n",
    "\n",
    "    \n",
    "y=raw_input(\"enter the string\")\n",
    "print rev(y)"
   ]
  },
  {
   "cell_type": "code",
   "execution_count": null,
   "metadata": {},
   "outputs": [],
   "source": [
    "\n",
    "    "
   ]
  },
  {
   "cell_type": "code",
   "execution_count": null,
   "metadata": {},
   "outputs": [],
   "source": []
  }
 ],
 "metadata": {
  "kernelspec": {
   "display_name": "Python 2",
   "language": "python",
   "name": "python2"
  },
  "language_info": {
   "codemirror_mode": {
    "name": "ipython",
    "version": 2
   },
   "file_extension": ".py",
   "mimetype": "text/x-python",
   "name": "python",
   "nbconvert_exporter": "python",
   "pygments_lexer": "ipython2",
   "version": "2.7.15"
  }
 },
 "nbformat": 4,
 "nbformat_minor": 2
}
