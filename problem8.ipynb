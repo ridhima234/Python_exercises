{
 "cells": [
  {
   "cell_type": "code",
   "execution_count": null,
   "metadata": {},
   "outputs": [],
   "source": [
    "pl1=input(\"Enter player1 turn\")\n",
    "pl2=input(\"Enter player2 turn\")"
   ]
  },
  {
   "cell_type": "code",
   "execution_count": null,
   "metadata": {},
   "outputs": [],
   "source": [
    "pl1=input(\"Enter player1 turn\")\n",
    "pl2=input(\"Enter player2 turn\")\n",
    "count=1\n",
    "while(count>0):\n",
    "    if (pl1=\"Rock\" and pl2=\"Scissors\" or pl1=\"Scissors\" and pl2=\"Rock\"):\n",
    "        print(\"Rock beats Scissors\")\n",
    "    elif(pl1=\"Scissors\" and pl2=\"Paper\" or pl1=\"Paper\" and pl2=\"Scissors\"):\n",
    "        print(\"Scissors beats paper\")\n",
    "    elif(pl1=\"Paper\" and pl2=\"Rock\" or pl1=\"Rock\" and pl2=\"Paper\"):\n",
    "        print(\"Paper beats Rock\")\n",
    "    else(pl1=\"Rock\" and pl2=\"Rock\" or pl1=\"Paper\" and pl2=\"Paper\" or pl1=\"Scissors\" and pl2=\"Scissors\"):\n",
    "        print(\"No one wins\")"
   ]
  },
  {
   "cell_type": "code",
   "execution_count": null,
   "metadata": {},
   "outputs": [],
   "source": []
  }
 ],
 "metadata": {
  "kernelspec": {
   "display_name": "Python 2",
   "language": "python",
   "name": "python2"
  },
  "language_info": {
   "codemirror_mode": {
    "name": "ipython",
    "version": 2
   },
   "file_extension": ".py",
   "mimetype": "text/x-python",
   "name": "python",
   "nbconvert_exporter": "python",
   "pygments_lexer": "ipython2",
   "version": "2.7.15"
  }
 },
 "nbformat": 4,
 "nbformat_minor": 2
}
